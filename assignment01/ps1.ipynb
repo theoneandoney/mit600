{
 "cells": [
  {
   "cell_type": "code",
   "execution_count": 1,
   "metadata": {},
   "outputs": [],
   "source": [
    "def is_prime(num):\n",
    "    # Returns True if num is prime, False otherwise\n",
    "    if num < 2:\n",
    "        return False\n",
    "    for i in range(2, num):\n",
    "        if num % i == 0:\n",
    "            return False\n",
    "    return True"
   ]
  },
  {
   "cell_type": "code",
   "execution_count": 7,
   "metadata": {},
   "outputs": [
    {
     "name": "stdout",
     "output_type": "stream",
     "text": [
      "The 1000th prime number is 7919\n"
     ]
    }
   ],
   "source": [
    "prime_cnt = 0\n",
    "num = 1\n",
    "last_prime = 1\n",
    "\n",
    "while prime_cnt < 1000:\n",
    "  if is_prime(num):\n",
    "    prime_cnt += 1\n",
    "    last_prime = num\n",
    "  num += 1\n",
    "\n",
    "print(\"The 1000th prime number is\", last_prime)\n"
   ]
  },
  {
   "cell_type": "code",
   "execution_count": 8,
   "metadata": {},
   "outputs": [],
   "source": [
    "from math import *"
   ]
  },
  {
   "cell_type": "code",
   "execution_count": 9,
   "metadata": {},
   "outputs": [],
   "source": [
    "def sum_prime_logs(n):\n",
    "    # Returns the sum of the logs of all the primes between 2 and n, inclusive\n",
    "    sum = 0\n",
    "    for i in range(2, n+1):\n",
    "        if is_prime(i):\n",
    "            sum += log(i)\n",
    "    return sum\n",
    "    \n",
    "    "
   ]
  },
  {
   "cell_type": "code",
   "execution_count": 26,
   "metadata": {},
   "outputs": [
    {
     "name": "stdout",
     "output_type": "stream",
     "text": [
      "49732.01840295681\n",
      "50000\n",
      "0.9946403680591362\n"
     ]
    }
   ],
   "source": [
    "def part_two(n):\n",
    "    out = sum_prime_logs(n)\n",
    "    print(out)\n",
    "    print(n)\n",
    "    print(out/n)\n",
    "\n",
    "n = 50000\n",
    "part_two(n)"
   ]
  }
 ],
 "metadata": {
  "kernelspec": {
   "display_name": "Python 3",
   "language": "python",
   "name": "python3"
  },
  "language_info": {
   "codemirror_mode": {
    "name": "ipython",
    "version": 3
   },
   "file_extension": ".py",
   "mimetype": "text/x-python",
   "name": "python",
   "nbconvert_exporter": "python",
   "pygments_lexer": "ipython3",
   "version": "3.11.1"
  },
  "orig_nbformat": 4,
  "vscode": {
   "interpreter": {
    "hash": "5c7b89af1651d0b8571dde13640ecdccf7d5a6204171d6ab33e7c296e100e08a"
   }
  }
 },
 "nbformat": 4,
 "nbformat_minor": 2
}
