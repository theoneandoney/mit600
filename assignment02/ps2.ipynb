{
 "cells": [
  {
   "cell_type": "code",
   "execution_count": 8,
   "metadata": {},
   "outputs": [
    {
     "name": "stdout",
     "output_type": "stream",
     "text": [
      "there are 2 possible ways to buy 50 chicken nuggets\n",
      "there are 3 possible ways to buy 51 chicken nuggets\n",
      "there are 1 possible ways to buy 52 chicken nuggets\n",
      "there are 2 possible ways to buy 53 chicken nuggets\n",
      "there are 4 possible ways to buy 54 chicken nuggets\n",
      "there are 1 possible ways to buy 55 chicken nuggets\n"
     ]
    }
   ],
   "source": [
    "def diophantine(num):\n",
    "    # Returns the number of solutions to the diophantine equation\n",
    "    # 6a + 9b + 20c = num\n",
    "    # where a, b, and c are non-negative integers\n",
    "    sol_cnt = 0\n",
    "    for a in range(num//6 + 1):\n",
    "        for b in range(num//9 + 1):\n",
    "            for c in range(num//20 + 1):\n",
    "                if 6*a + 9*b + 20*c == num:\n",
    "                    sol_cnt += 1\n",
    "    return sol_cnt\n",
    "\n",
    "\n",
    "def part_one():\n",
    "    print(\"there are\", diophantine(50), \"possible ways to buy 50 chicken nuggets\")\n",
    "    print(\"there are\", diophantine(51), \"possible ways to buy 51 chicken nuggets\")\n",
    "    print(\"there are\", diophantine(52), \"possible ways to buy 52 chicken nuggets\")\n",
    "    print(\"there are\", diophantine(53), \"possible ways to buy 53 chicken nuggets\")\n",
    "    print(\"there are\", diophantine(54), \"possible ways to buy 54 chicken nuggets\")\n",
    "    print(\"there are\", diophantine(55), \"possible ways to buy 55 chicken nuggets\")\n",
    "\n",
    "part_one()"
   ]
  },
  {
   "cell_type": "code",
   "execution_count": 18,
   "metadata": {},
   "outputs": [
    {
     "name": "stdout",
     "output_type": "stream",
     "text": [
      "there are 0 possible ways to buy 1 chicken nuggets\n",
      "there are 0 possible ways to buy 2 chicken nuggets\n",
      "there are 0 possible ways to buy 3 chicken nuggets\n",
      "there are 0 possible ways to buy 4 chicken nuggets\n",
      "there are 0 possible ways to buy 5 chicken nuggets\n",
      "there are 1 possible ways to buy 6 chicken nuggets\n",
      "there are 0 possible ways to buy 7 chicken nuggets\n",
      "there are 0 possible ways to buy 8 chicken nuggets\n",
      "there are 1 possible ways to buy 9 chicken nuggets\n",
      "there are 0 possible ways to buy 10 chicken nuggets\n",
      "there are 0 possible ways to buy 11 chicken nuggets\n",
      "there are 1 possible ways to buy 12 chicken nuggets\n",
      "there are 0 possible ways to buy 13 chicken nuggets\n",
      "there are 0 possible ways to buy 14 chicken nuggets\n",
      "there are 1 possible ways to buy 15 chicken nuggets\n",
      "there are 0 possible ways to buy 16 chicken nuggets\n",
      "there are 0 possible ways to buy 17 chicken nuggets\n",
      "there are 2 possible ways to buy 18 chicken nuggets\n",
      "there are 0 possible ways to buy 19 chicken nuggets\n",
      "there are 1 possible ways to buy 20 chicken nuggets\n",
      "there are 1 possible ways to buy 21 chicken nuggets\n",
      "there are 0 possible ways to buy 22 chicken nuggets\n",
      "there are 0 possible ways to buy 23 chicken nuggets\n",
      "there are 2 possible ways to buy 24 chicken nuggets\n",
      "there are 0 possible ways to buy 25 chicken nuggets\n",
      "there are 1 possible ways to buy 26 chicken nuggets\n",
      "there are 2 possible ways to buy 27 chicken nuggets\n",
      "there are 0 possible ways to buy 28 chicken nuggets\n",
      "there are 1 possible ways to buy 29 chicken nuggets\n",
      "there are 2 possible ways to buy 30 chicken nuggets\n",
      "there are 0 possible ways to buy 31 chicken nuggets\n",
      "there are 1 possible ways to buy 32 chicken nuggets\n",
      "there are 2 possible ways to buy 33 chicken nuggets\n",
      "there are 0 possible ways to buy 34 chicken nuggets\n",
      "there are 1 possible ways to buy 35 chicken nuggets\n",
      "there are 3 possible ways to buy 36 chicken nuggets\n",
      "there are 0 possible ways to buy 37 chicken nuggets\n",
      "there are 2 possible ways to buy 38 chicken nuggets\n",
      "there are 2 possible ways to buy 39 chicken nuggets\n",
      "there are 1 possible ways to buy 40 chicken nuggets\n",
      "there are 1 possible ways to buy 41 chicken nuggets\n",
      "there are 3 possible ways to buy 42 chicken nuggets\n",
      "there are 0 possible ways to buy 43 chicken nuggets\n",
      "there are 2 possible ways to buy 44 chicken nuggets\n",
      "there are 3 possible ways to buy 45 chicken nuggets\n",
      "there are 1 possible ways to buy 46 chicken nuggets\n",
      "there are 2 possible ways to buy 47 chicken nuggets\n",
      "there are 3 possible ways to buy 48 chicken nuggets\n",
      "there are 1 possible ways to buy 49 chicken nuggets\n",
      "there are 2 possible ways to buy 50 chicken nuggets\n",
      "there are 3 possible ways to buy 51 chicken nuggets\n",
      "there are 1 possible ways to buy 52 chicken nuggets\n",
      "there are 2 possible ways to buy 53 chicken nuggets\n",
      "there are 4 possible ways to buy 54 chicken nuggets\n",
      "there are 1 possible ways to buy 55 chicken nuggets\n",
      "there are 3 possible ways to buy 56 chicken nuggets\n",
      "there are 3 possible ways to buy 57 chicken nuggets\n",
      "there are 2 possible ways to buy 58 chicken nuggets\n",
      "there are 2 possible ways to buy 59 chicken nuggets\n",
      "there are 5 possible ways to buy 60 chicken nuggets\n",
      "there are 1 possible ways to buy 61 chicken nuggets\n",
      "there are 3 possible ways to buy 62 chicken nuggets\n",
      "there are 4 possible ways to buy 63 chicken nuggets\n",
      "there are 2 possible ways to buy 64 chicken nuggets\n",
      "there are 3 possible ways to buy 65 chicken nuggets\n",
      "there are 5 possible ways to buy 66 chicken nuggets\n",
      "there are 2 possible ways to buy 67 chicken nuggets\n",
      "there are 3 possible ways to buy 68 chicken nuggets\n",
      "there are 5 possible ways to buy 69 chicken nuggets\n",
      "there are 2 possible ways to buy 70 chicken nuggets\n",
      "there are 3 possible ways to buy 71 chicken nuggets\n",
      "there are 6 possible ways to buy 72 chicken nuggets\n",
      "there are 2 possible ways to buy 73 chicken nuggets\n",
      "there are 4 possible ways to buy 74 chicken nuggets\n",
      "there are 5 possible ways to buy 75 chicken nuggets\n",
      "there are 3 possible ways to buy 76 chicken nuggets\n",
      "there are 3 possible ways to buy 77 chicken nuggets\n",
      "there are 7 possible ways to buy 78 chicken nuggets\n",
      "there are 2 possible ways to buy 79 chicken nuggets\n",
      "there are 5 possible ways to buy 80 chicken nuggets\n",
      "there are 6 possible ways to buy 81 chicken nuggets\n",
      "there are 3 possible ways to buy 82 chicken nuggets\n",
      "there are 4 possible ways to buy 83 chicken nuggets\n",
      "there are 7 possible ways to buy 84 chicken nuggets\n",
      "there are 3 possible ways to buy 85 chicken nuggets\n",
      "there are 5 possible ways to buy 86 chicken nuggets\n",
      "there are 7 possible ways to buy 87 chicken nuggets\n",
      "there are 3 possible ways to buy 88 chicken nuggets\n",
      "there are 5 possible ways to buy 89 chicken nuggets\n",
      "there are 8 possible ways to buy 90 chicken nuggets\n",
      "there are 3 possible ways to buy 91 chicken nuggets\n",
      "there are 6 possible ways to buy 92 chicken nuggets\n",
      "there are 7 possible ways to buy 93 chicken nuggets\n",
      "there are 4 possible ways to buy 94 chicken nuggets\n",
      "there are 5 possible ways to buy 95 chicken nuggets\n",
      "there are 9 possible ways to buy 96 chicken nuggets\n",
      "there are 3 possible ways to buy 97 chicken nuggets\n",
      "there are 7 possible ways to buy 98 chicken nuggets\n",
      "there are 8 possible ways to buy 99 chicken nuggets\n"
     ]
    }
   ],
   "source": [
    "for i in range(1, 100):\n",
    "    print(\"there are\", diophantine(i), \"possible ways to buy\", i, \"chicken nuggets\")"
   ]
  },
  {
   "cell_type": "code",
   "execution_count": 19,
   "metadata": {},
   "outputs": [
    {
     "name": "stdout",
     "output_type": "stream",
     "text": [
      "Largest number of McNuggets that cannot be bought in exact quantity: 43\n"
     ]
    }
   ],
   "source": [
    "def part_three():\n",
    "  n = 1\n",
    "  cnt = 0\n",
    "  save = []\n",
    "  while cnt < 6:\n",
    "    if diophantine(n) > 0:\n",
    "      cnt += 1\n",
    "      n += 1\n",
    "    else:\n",
    "      save.append(n)\n",
    "      n += 1\n",
    "      cnt = 0\n",
    "  print(\"Largest number of McNuggets that cannot be bought in exact quantity:\", save[-1])\n",
    "\n",
    "part_three()"
   ]
  },
  {
   "cell_type": "code",
   "execution_count": 20,
   "metadata": {},
   "outputs": [
    {
     "name": "stdout",
     "output_type": "stream",
     "text": [
      "Largest number of McNuggets that cannot be bought in exact quantity: 43\n"
     ]
    }
   ],
   "source": [
    "def diophantine2(num, packages):\n",
    "    # Returns the number of solutions to the diophantine equation\n",
    "    # x*a + y*b + z*c = num\n",
    "    # where a, b, and c are non-negative integers\n",
    "    x = packages[0]\n",
    "    y = packages[1]\n",
    "    z = packages[2]\n",
    "    sol_cnt = 0\n",
    "    for a in range(num//x + 1):\n",
    "        for b in range(num//y + 1):\n",
    "            for c in range(num//z + 1):\n",
    "                if x*a + y*b + z*c == num:\n",
    "                    sol_cnt += 1\n",
    "    return sol_cnt\n",
    "\n",
    "\n",
    "def part_4(x, y, z):\n",
    "  bestSoFar = 0     # variable that keeps track of largest number\n",
    "                    # of McNuggets that cannot be bought in exact quantity\n",
    "  packages = (x, y, z)   # variable that contains package sizes\n",
    "\n",
    "  for n in range(1, 200):   # only search for solutions up to size 150\n",
    "      ## complete code here to find largest size that cannot be bought\n",
    "      ## when done, your answer should be bound to bestSoFar\n",
    "      if diophantine2(n, packages) == 0:\n",
    "        bestSoFar = n\n",
    "  print(\"Largest number of McNuggets that cannot be bought in exact quantity:\", bestSoFar)\n",
    "\n",
    "\n",
    "part_4(6, 9, 20)"
   ]
  }
 ],
 "metadata": {
  "kernelspec": {
   "display_name": "Python 3",
   "language": "python",
   "name": "python3"
  },
  "language_info": {
   "codemirror_mode": {
    "name": "ipython",
    "version": 3
   },
   "file_extension": ".py",
   "mimetype": "text/x-python",
   "name": "python",
   "nbconvert_exporter": "python",
   "pygments_lexer": "ipython3",
   "version": "3.11.1 (main, Dec 23 2022, 09:28:24) [Clang 14.0.0 (clang-1400.0.29.202)]"
  },
  "orig_nbformat": 4,
  "vscode": {
   "interpreter": {
    "hash": "5c7b89af1651d0b8571dde13640ecdccf7d5a6204171d6ab33e7c296e100e08a"
   }
  }
 },
 "nbformat": 4,
 "nbformat_minor": 2
}
