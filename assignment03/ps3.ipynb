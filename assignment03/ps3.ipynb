{
 "cells": [
  {
   "cell_type": "code",
   "execution_count": 3,
   "metadata": {},
   "outputs": [],
   "source": [
    "from string import *"
   ]
  },
  {
   "cell_type": "code",
   "execution_count": 3,
   "metadata": {},
   "outputs": [
    {
     "data": {
      "text/plain": [
       "5"
      ]
     },
     "execution_count": 3,
     "metadata": {},
     "output_type": "execute_result"
    }
   ],
   "source": [
    "dna = \"atgacatgcacaagtatgcat\"\n",
    "dna.find(\"atgc\")\n",
    "\"atgacatgcacaagtatgcat\".find(\"ggcc\")\n",
    "\n",
    "\n",
    "dna.find(\"atgc\", 5)"
   ]
  },
  {
   "cell_type": "code",
   "execution_count": 5,
   "metadata": {},
   "outputs": [
    {
     "name": "stdout",
     "output_type": "stream",
     "text": [
      "16\n"
     ]
    },
    {
     "data": {
      "text/plain": [
       "2"
      ]
     },
     "execution_count": 5,
     "metadata": {},
     "output_type": "execute_result"
    }
   ],
   "source": [
    "def countSubStringMatch(target, key):\n",
    "  ptr = 0\n",
    "  last_match = 0\n",
    "  cnt = 0\n",
    "\n",
    "\n",
    "  last_match = target.find(key, ptr)\n",
    "  if last_match == -1:\n",
    "    return cnt\n",
    "  cnt += 1\n",
    "  ptr = last_match + 1\n",
    "  while ptr < len(target):\n",
    "    last_match = target.find(key, ptr)\n",
    "    if last_match == -1:\n",
    "      return cnt\n",
    "    cnt += 1\n",
    "    ptr = last_match + 1\n",
    "    print(ptr)\n",
    "  return cnt\n",
    "\n",
    "countSubStringMatch(\"atgacatgcacaagtatgcat\", \"atgc\")"
   ]
  },
  {
   "cell_type": "code",
   "execution_count": 7,
   "metadata": {},
   "outputs": [
    {
     "data": {
      "text/plain": [
       "(0, 3, 5, 9, 11, 12, 15, 19)"
      ]
     },
     "execution_count": 7,
     "metadata": {},
     "output_type": "execute_result"
    }
   ],
   "source": [
    "def subStringMatchExact(target, key):\n",
    "  # return tuple of starting points of matches of key in target\n",
    "  ptr = 0\n",
    "  last_match = 0\n",
    "  cnt = 0\n",
    "  matches = ()\n",
    "\n",
    "  last_match = target.find(key, ptr)\n",
    "  if last_match == -1:\n",
    "    return matches\n",
    "\n",
    "  matches += (last_match,)\n",
    "  cnt += 1\n",
    "  ptr = last_match + 1\n",
    "  while ptr < len(target):\n",
    "    last_match = target.find(key, ptr)\n",
    "    if last_match == -1:\n",
    "      return matches\n",
    "    matches += (last_match,)\n",
    "    cnt += 1\n",
    "    ptr = last_match + 1\n",
    "  \n",
    "  return matches\n",
    "\n",
    "\n",
    "target1 = 'atgacatgcacaagtatgcat'\n",
    "target2 = 'atgaatgcatggatgtaaatgcag'\n",
    "key10 = 'a'\n",
    "key11 = 'atg'\n",
    "key12 = 'atgc'\n",
    "key13 = 'atgca'\n",
    "subStringMatchExact(target1, key10)"
   ]
  },
  {
   "cell_type": "code",
   "execution_count": null,
   "metadata": {},
   "outputs": [],
   "source": []
  }
 ],
 "metadata": {
  "kernelspec": {
   "display_name": "Python 3",
   "language": "python",
   "name": "python3"
  },
  "language_info": {
   "codemirror_mode": {
    "name": "ipython",
    "version": 3
   },
   "file_extension": ".py",
   "mimetype": "text/x-python",
   "name": "python",
   "nbconvert_exporter": "python",
   "pygments_lexer": "ipython3",
   "version": "3.11.1"
  },
  "orig_nbformat": 4,
  "vscode": {
   "interpreter": {
    "hash": "5c7b89af1651d0b8571dde13640ecdccf7d5a6204171d6ab33e7c296e100e08a"
   }
  }
 },
 "nbformat": 4,
 "nbformat_minor": 2
}
